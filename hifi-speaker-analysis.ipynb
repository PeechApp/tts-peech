{
 "cells": [
  {
   "cell_type": "code",
   "execution_count": 4,
   "metadata": {},
   "outputs": [],
   "source": [
    "from lhotse import CutSet, SupervisionSet\n",
    "import pandas as pd\n",
    "\n",
    "from training.datasets.hifi_libri_dataset import HifiLibriDataset"
   ]
  },
  {
   "cell_type": "code",
   "execution_count": 5,
   "metadata": {},
   "outputs": [
    {
     "name": "stderr",
     "output_type": "stream",
     "text": [
      " NeMo-text-processing :: INFO     :: Creating ClassifyFst grammars.\n"
     ]
    },
    {
     "data": {
      "text/plain": [
       "CutSet(len=142030) [underlying data type: <class 'list'>]"
      ]
     },
     "execution_count": 5,
     "metadata": {},
     "output_type": "execute_result"
    }
   ],
   "source": [
    "hifi_lib_dataset = HifiLibriDataset()\n",
    "\n",
    "hifi_lib_dataset.cutset_hifi"
   ]
  },
  {
   "cell_type": "code",
   "execution_count": 6,
   "metadata": {},
   "outputs": [
    {
     "data": {
      "text/plain": [
       "'Tony Oliva'"
      ]
     },
     "execution_count": 6,
     "metadata": {},
     "output_type": "execute_result"
    }
   ],
   "source": [
    "hifi_lib_dataset.cutset_hifi[0].supervisions[0].speaker"
   ]
  },
  {
   "cell_type": "code",
   "execution_count": 7,
   "metadata": {},
   "outputs": [
    {
     "data": {
      "text/plain": [
       "SupervisionSet(len=323978)"
      ]
     },
     "execution_count": 7,
     "metadata": {},
     "output_type": "execute_result"
    }
   ],
   "source": [
    "supervisions_hifi = SupervisionSet.from_file(\"./datasets_cache//supervisions_hifi.json.gz\")\n",
    "supervisions_hifi"
   ]
  },
  {
   "cell_type": "code",
   "execution_count": 9,
   "metadata": {},
   "outputs": [
    {
     "data": {
      "text/plain": [
       "'Mike Pelton'"
      ]
     },
     "execution_count": 9,
     "metadata": {},
     "output_type": "execute_result"
    }
   ],
   "source": [
    "supervisions_hifi[0].speaker"
   ]
  },
  {
   "cell_type": "code",
   "execution_count": 10,
   "metadata": {},
   "outputs": [
    {
     "data": {
      "text/plain": [
       "speaker\n",
       "John Van Stan     208810.140\n",
       "Phil Benson       120649.430\n",
       "Maria Kasper      109605.150\n",
       "LikeManyWaters     98359.250\n",
       "Cori Samuel        98298.860\n",
       "Celine Major       96555.780\n",
       "Helen Taylor       87532.270\n",
       "Tony Oliva         86664.250\n",
       "Sylviamb           79816.730\n",
       "Mike Pelton        63785.828\n",
       "Name: duration, dtype: float64"
      ]
     },
     "execution_count": 10,
     "metadata": {},
     "output_type": "execute_result"
    }
   ],
   "source": [
    "durations = pd.DataFrame(supervisions_hifi) \\\n",
    "    .groupby(\"speaker\")[\"duration\"] \\\n",
    "    .sum() \\\n",
    "    .sort_values(ascending=False)\n",
    "\n",
    "durations"
   ]
  },
  {
   "cell_type": "code",
   "execution_count": null,
   "metadata": {},
   "outputs": [],
   "source": [
    "from lhotse import CutSet, RecordingSet, SupervisionSet\n",
    "\n",
    "prepared_hifi = CutSet.from_file(hifi_cutset_file_path)\n",
    "\n",
    "recordings_hifi = RecordingSet()\n",
    "supervisions_hifi = SupervisionSet()\n",
    "\n",
    "for hifi_row in prepared_hifi.values():\n",
    "    record = hifi_row[\"recordings\"]\n",
    "    supervision = hifi_row[\"supervisions\"]\n",
    "\n",
    "    # Separate the recordings and supervisions\n",
    "    if isinstance(record, RecordingSet):\n",
    "        recordings_hifi += record\n",
    "\n",
    "    if isinstance(supervision, SupervisionSet):\n",
    "        supervisions_hifi += supervision\n",
    "\n",
    "# Add the recordings and supervisions to the CutSet\n",
    "cutset_libri = CutSet.from_manifests(\n",
    "    recordings=recordings_hifi,\n",
    "    supervisions=supervisions_hifi,\n",
    ")\n",
    "cutset_libri"
   ]
  },
  {
   "cell_type": "code",
   "execution_count": null,
   "metadata": {},
   "outputs": [],
   "source": [
    "recordings_hifi.to_file(root_dir / \"recordings_libri.json.gz\")\n",
    "supervisions_hifi.to_file(root_dir / \"supervisions_libri.json.gz\")"
   ]
  }
 ],
 "metadata": {
  "kernelspec": {
   "display_name": "tts_framework",
   "language": "python",
   "name": "python3"
  },
  "language_info": {
   "codemirror_mode": {
    "name": "ipython",
    "version": 3
   },
   "file_extension": ".py",
   "mimetype": "text/x-python",
   "name": "python",
   "nbconvert_exporter": "python",
   "pygments_lexer": "ipython3",
   "version": "3.11.8"
  }
 },
 "nbformat": 4,
 "nbformat_minor": 2
}
